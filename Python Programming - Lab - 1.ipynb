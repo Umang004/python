{
 "cells": [
  {
   "cell_type": "markdown",
   "metadata": {},
   "source": [
    "<a href='https://www.darshan.ac.in/'> <img src='https://www.darshan.ac.in/Content/media/DU_Logo.svg' width=\"250\" height=\"300\"/></a>\n",
    "<pre>\n",
    "<center><b><h1>Python Programming - 2101CS405</b></center>\n",
    "<center><b><h1>Lab - 1</b></center>    \n",
    "<pre>"
   ]
  },
  {
   "cell_type": "markdown",
   "metadata": {},
   "source": [
    "### 01) WAP to print “Hello World”"
   ]
  },
  {
   "cell_type": "code",
   "execution_count": 3,
   "metadata": {},
   "outputs": [
    {
     "name": "stdout",
     "output_type": "stream",
     "text": [
      "hello world\n"
     ]
    }
   ],
   "source": [
    "print(\"hello world\")\n",
    "      "
   ]
  },
  {
   "cell_type": "markdown",
   "metadata": {},
   "source": [
    "### 02) WAP to print your address i) using single print ii) using multiple print"
   ]
  },
  {
   "cell_type": "code",
   "execution_count": 11,
   "metadata": {},
   "outputs": [
    {
     "name": "stdout",
     "output_type": "stream",
     "text": [
      "haridhava road ,kothariya main road,rajkot\n",
      "haridhava road ,kothariya main road,rajkot\n",
      "haridhava road ,kothariya main road,rajkot\n"
     ]
    }
   ],
   "source": [
    "print(\"haridhava road ,kothariya main road,rajkot\")\n",
    "\n",
    "print(\"haridhava road ,kothariya main road,rajkot\")\n",
    "print(\"haridhava road ,kothariya main road,rajkot\")\n"
   ]
  },
  {
   "cell_type": "markdown",
   "metadata": {},
   "source": [
    "### 03) WAP to print addition of 2 numbers (without input function)"
   ]
  },
  {
   "cell_type": "code",
   "execution_count": 20,
   "metadata": {},
   "outputs": [
    {
     "name": "stdout",
     "output_type": "stream",
     "text": [
      "3\n"
     ]
    }
   ],
   "source": [
    "a=2\n",
    "b=1\n",
    "print(a+b)\n"
   ]
  },
  {
   "cell_type": "markdown",
   "metadata": {},
   "source": [
    " 04) WAP to calculate and print average of 2 numbers (without input function)"
   ]
  },
  {
   "cell_type": "code",
   "execution_count": 22,
   "metadata": {},
   "outputs": [
    {
     "name": "stdout",
     "output_type": "stream",
     "text": [
      "3.5\n"
     ]
    }
   ],
   "source": [
    "a=3\n",
    "b=4\n",
    "c=(a+b)/2\n",
    "print(c)"
   ]
  },
  {
   "cell_type": "markdown",
   "metadata": {},
   "source": [
    "### 05) WAP to add two number entered by user."
   ]
  },
  {
   "cell_type": "code",
   "execution_count": 23,
   "metadata": {},
   "outputs": [
    {
     "name": "stdout",
     "output_type": "stream",
     "text": [
      "Enter First Number : 1\n",
      "Enter Second Number : 2\n",
      "3\n"
     ]
    }
   ],
   "source": [
    "a = int(input(\"Enter First Number : \"))\n",
    "b = int(input(\"Enter Second Number : \"))\n",
    "print(a+b)"
   ]
  },
  {
   "cell_type": "markdown",
   "metadata": {},
   "source": [
    "### 06) WAP to calculate simple interest."
   ]
  },
  {
   "cell_type": "code",
   "execution_count": 24,
   "metadata": {},
   "outputs": [
    {
     "name": "stdout",
     "output_type": "stream",
     "text": [
      "Enter First Number : 1000\n",
      "Enter Second Number : 2\n",
      "Enter Second Number : 2\n",
      "40.0\n"
     ]
    }
   ],
   "source": [
    "p = int(input(\"Enter First Number : \"))\n",
    "r = int(input(\"Enter Second Number : \"))\n",
    "n = int(input(\"Enter Second Number : \"))\n",
    "inter=(p*r*n)/100\n",
    "print(inter)"
   ]
  },
  {
   "cell_type": "markdown",
   "metadata": {},
   "source": [
    "### 07) WAP Calculate Area and Circumfrence of Circle"
   ]
  },
  {
   "cell_type": "code",
   "execution_count": 25,
   "metadata": {},
   "outputs": [
    {
     "name": "stdout",
     "output_type": "stream",
     "text": [
      "Enter First Number : 2\n",
      "12.56\n"
     ]
    }
   ],
   "source": [
    "a = int(input(\"Enter First Number : \"))\n",
    "b=3.14*r*r\n",
    "print(b)"
   ]
  },
  {
   "cell_type": "markdown",
   "metadata": {},
   "source": [
    "### 08) WAP to print Multiplication table of given number without using loops."
   ]
  },
  {
   "cell_type": "code",
   "execution_count": 26,
   "metadata": {},
   "outputs": [
    {
     "name": "stdout",
     "output_type": "stream",
     "text": [
      "Enter A Number : 2\n",
      "2 * 1 = 2\n",
      "2 * 2 = 4\n",
      "2 * 3 = 6\n",
      "2 * 4 = 8\n",
      "2 * 5 = 10\n",
      "2 * 6 = 12\n",
      "2 * 7 = 14\n",
      "2 * 8 = 16\n",
      "2 * 9 = 18\n",
      "2 * 10 = 20\n"
     ]
    }
   ],
   "source": [
    "n = int(input(\"Enter A Number : \"))\n",
    "\n",
    "print(n, \"*\", 1, \"=\", n * 1)\n",
    "print(n, \"*\", 2, \"=\", n * 2)\n",
    "print(n, \"*\", 3, \"=\", n * 3)\n",
    "print(n, \"*\", 4, \"=\", n * 4)\n",
    "print(n, \"*\", 5, \"=\", n * 5)\n",
    "print(n, \"*\", 6, \"=\", n * 6)\n",
    "print(n, \"*\", 7, \"=\", n * 7)\n",
    "print(n, \"*\", 8, \"=\", n * 8)\n",
    "print(n, \"*\", 9, \"=\", n * 9)\n",
    "print(n, \"*\", 10, \"=\", n * 10)"
   ]
  },
  {
   "cell_type": "markdown",
   "metadata": {},
   "source": [
    "### 09) WAP to calculate Area of Triangle (hint: a = h * b * 0.5)"
   ]
  },
  {
   "cell_type": "code",
   "execution_count": 27,
   "metadata": {},
   "outputs": [
    {
     "name": "stdout",
     "output_type": "stream",
     "text": [
      "Enter First Number : 2\n",
      "Enter First Number : 3\n",
      "3.0\n"
     ]
    }
   ],
   "source": [
    "h = int(input(\"Enter First Number : \"))\n",
    "b = int(input(\"Enter First Number : \"))\n",
    "a=(h*b*0.5)\n",
    "print(a)"
   ]
  },
  {
   "cell_type": "markdown",
   "metadata": {},
   "source": [
    "### 10) WAP to convert degree to Fahrenheit and vice versa."
   ]
  },
  {
   "cell_type": "code",
   "execution_count": 2,
   "metadata": {},
   "outputs": [
    {
     "name": "stdout",
     "output_type": "stream",
     "text": [
      "Enter Temp in celsius = 23\n",
      "Temp in fahrenheit =  73.4\n",
      "Enter Temp in fahrenheit = 73.4\n",
      "Temp in celsius =  55.62222222222223\n"
     ]
    }
   ],
   "source": [
    "celsius = float(input(\"Enter Temp in celsius = \"))\n",
    "fahrenheit = celsius * (9/5) +32\n",
    "print(\"Temp in fahrenheit = \",fahrenheit)\n",
    "\n",
    "fahrenheit = float(input(\"Enter Temp in fahrenheit = \"))\n",
    "celsius = fahrenheit-32*(5/9)\n",
    "print(\"Temp in celsius = \",celsius)"
   ]
  },
  {
   "cell_type": "markdown",
   "metadata": {},
   "source": [
    "### 11) WAP to calculate total marks and Percentage."
   ]
  },
  {
   "cell_type": "code",
   "execution_count": 10,
   "metadata": {},
   "outputs": [
    {
     "name": "stdout",
     "output_type": "stream",
     "text": [
      "Enter First subject marks : 90\n",
      "Enter second  subject marks : 89\n",
      "Enter third subject marks : 90\n",
      "your percentage is : 89.66666666666667\n"
     ]
    }
   ],
   "source": [
    "a = int(input(\"Enter First subject marks : \"))\n",
    "b = int(input(\"Enter second  subject marks : \"))\n",
    "c = int(input(\"Enter third subject marks : \"))\n",
    "sum=(a+b+c)\n",
    "per=(sum*100)/300\n",
    "print(\"your percentage is :\",per)"
   ]
  },
  {
   "cell_type": "markdown",
   "metadata": {},
   "source": [
    "### 12) Compute distance between two points taking input from the user (Pythagorean Theorem)."
   ]
  },
  {
   "cell_type": "code",
   "execution_count": 12,
   "metadata": {},
   "outputs": [
    {
     "name": "stdout",
     "output_type": "stream",
     "text": [
      "Enter x1 = 3\n",
      "Enter x2 = 2\n",
      "Enter y1 = 6\n",
      "Enter y2 = 0\n",
      "Distance between (3, 2) and (6, 0) is =  6.082762530298219\n"
     ]
    }
   ],
   "source": [
    "x1 = int(input(\"Enter x1 = \"))\n",
    "x2 = int(input(\"Enter x2 = \"))\n",
    "y1 = int(input(\"Enter y1 = \"))\n",
    "y2 = int(input(\"Enter y2 = \"))\n",
    "\n",
    "distance = ((((x2-x1)**2)+((y2-y1)**2))**0.5)\n",
    "\n",
    "print(\"Distance between\",(x1,x2), \"and\", (y1,y2), \"is = \",distance)\n"
   ]
  },
  {
   "cell_type": "markdown",
   "metadata": {},
   "source": [
    "### 13) WAP to convert seconds into hours, minutes & seconds and print in HH:MM:SS\n",
    "[e.g. 10000 seconds mean 2:46:40 (2 Hours, 46 Minutes, 40Seconds)]"
   ]
  },
  {
   "cell_type": "code",
   "execution_count": 16,
   "metadata": {},
   "outputs": [
    {
     "name": "stdout",
     "output_type": "stream",
     "text": [
      "Enter time in seconds= 10000\n",
      "2 Hr 46 Min 40 Sec\n"
     ]
    }
   ],
   "source": [
    "\n",
    "Sec = int(input(\"Enter time in seconds= \"))\n",
    "Hr = Sec//3600\n",
    "x = Sec%3600\n",
    "Min = x//60\n",
    "y = x%60\n",
    "Sec = y\n",
    "print(Hr,\"Hr\",Min,\"Min\",Sec,\"Sec\",)"
   ]
  },
  {
   "cell_type": "markdown",
   "metadata": {},
   "source": [
    "### 14) WAP to enter distance into kilometer and convert it into meter, feet,inches, and centimeter"
   ]
  },
  {
   "cell_type": "code",
   "execution_count": 17,
   "metadata": {},
   "outputs": [
    {
     "name": "stdout",
     "output_type": "stream",
     "text": [
      "Enter Distance in Kilometer = 10\n",
      "Meters =  10000\n",
      "Feets =  32808.4\n",
      "Inches =  393701.0\n",
      "Centimeter =  1000000\n"
     ]
    }
   ],
   "source": [
    "km = int(input(\"Enter Distance in Kilometer = \"))\n",
    "print(\"Meters = \",km*1000)\n",
    "print(\"Feets = \",km*3280.84)\n",
    "print(\"Inches = \",km*39370.1)\n",
    "print(\"Centimeter = \",km*100000)"
   ]
  }
 ],
 "metadata": {
  "kernelspec": {
   "display_name": "Python 3 (ipykernel)",
   "language": "python",
   "name": "python3"
  },
  "language_info": {
   "codemirror_mode": {
    "name": "ipython",
    "version": 3
   },
   "file_extension": ".py",
   "mimetype": "text/x-python",
   "name": "python",
   "nbconvert_exporter": "python",
   "pygments_lexer": "ipython3",
   "version": "3.9.13"
  }
 },
 "nbformat": 4,
 "nbformat_minor": 4
}
